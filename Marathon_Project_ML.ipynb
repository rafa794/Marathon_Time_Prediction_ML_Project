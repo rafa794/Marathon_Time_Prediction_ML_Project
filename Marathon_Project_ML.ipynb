{
  "cells": [
    {
      "cell_type": "markdown",
      "metadata": {
        "id": "FdmWZrXKS-o2"
      },
      "source": [
        "Marathon Project ML"
      ]
    },
    {
      "attachments": {},
      "cell_type": "markdown",
      "metadata": {},
      "source": [
        "PHASE 1: Receive Data and Data Visual\n",
        "Import the necessary libraries"
      ]
    },
    {
      "cell_type": "code",
      "execution_count": 1,
      "metadata": {
        "colab": {
          "base_uri": "https://localhost:8080/",
          "height": 655
        },
        "id": "PNpCw9g3UCNG",
        "outputId": "53144d47-c376-4028-e488-8b71b5f802bb"
      },
      "outputs": [
        {
          "data": {
            "text/html": [
              "<div>\n",
              "<style scoped>\n",
              "    .dataframe tbody tr th:only-of-type {\n",
              "        vertical-align: middle;\n",
              "    }\n",
              "\n",
              "    .dataframe tbody tr th {\n",
              "        vertical-align: top;\n",
              "    }\n",
              "\n",
              "    .dataframe thead th {\n",
              "        text-align: right;\n",
              "    }\n",
              "</style>\n",
              "<table border=\"1\" class=\"dataframe\">\n",
              "  <thead>\n",
              "    <tr style=\"text-align: right;\">\n",
              "      <th></th>\n",
              "      <th>id</th>\n",
              "      <th>Marathon</th>\n",
              "      <th>Name</th>\n",
              "      <th>Category</th>\n",
              "      <th>km4week</th>\n",
              "      <th>sp4week</th>\n",
              "      <th>CrossTraining</th>\n",
              "      <th>Wall21</th>\n",
              "      <th>MarathonTime</th>\n",
              "      <th>CATEGORY</th>\n",
              "    </tr>\n",
              "  </thead>\n",
              "  <tbody>\n",
              "    <tr>\n",
              "      <th>0</th>\n",
              "      <td>1</td>\n",
              "      <td>Prague17</td>\n",
              "      <td>Blair MORGAN</td>\n",
              "      <td>MAM</td>\n",
              "      <td>132.8</td>\n",
              "      <td>14.434783</td>\n",
              "      <td>NaN</td>\n",
              "      <td>1.16</td>\n",
              "      <td>2.37</td>\n",
              "      <td>A</td>\n",
              "    </tr>\n",
              "    <tr>\n",
              "      <th>1</th>\n",
              "      <td>2</td>\n",
              "      <td>Prague17</td>\n",
              "      <td>Robert Heczko</td>\n",
              "      <td>MAM</td>\n",
              "      <td>68.6</td>\n",
              "      <td>13.674419</td>\n",
              "      <td>NaN</td>\n",
              "      <td>1.23</td>\n",
              "      <td>2.59</td>\n",
              "      <td>A</td>\n",
              "    </tr>\n",
              "    <tr>\n",
              "      <th>2</th>\n",
              "      <td>3</td>\n",
              "      <td>Prague17</td>\n",
              "      <td>Michon Jerome</td>\n",
              "      <td>MAM</td>\n",
              "      <td>82.7</td>\n",
              "      <td>13.520436</td>\n",
              "      <td>NaN</td>\n",
              "      <td>1.30</td>\n",
              "      <td>2.66</td>\n",
              "      <td>A</td>\n",
              "    </tr>\n",
              "    <tr>\n",
              "      <th>3</th>\n",
              "      <td>4</td>\n",
              "      <td>Prague17</td>\n",
              "      <td>Daniel Or lek</td>\n",
              "      <td>M45</td>\n",
              "      <td>137.5</td>\n",
              "      <td>12.258544</td>\n",
              "      <td>NaN</td>\n",
              "      <td>1.32</td>\n",
              "      <td>2.68</td>\n",
              "      <td>A</td>\n",
              "    </tr>\n",
              "    <tr>\n",
              "      <th>4</th>\n",
              "      <td>5</td>\n",
              "      <td>Prague17</td>\n",
              "      <td>Luk ? Mr zek</td>\n",
              "      <td>MAM</td>\n",
              "      <td>84.6</td>\n",
              "      <td>13.945055</td>\n",
              "      <td>NaN</td>\n",
              "      <td>1.36</td>\n",
              "      <td>2.74</td>\n",
              "      <td>A</td>\n",
              "    </tr>\n",
              "    <tr>\n",
              "      <th>...</th>\n",
              "      <td>...</td>\n",
              "      <td>...</td>\n",
              "      <td>...</td>\n",
              "      <td>...</td>\n",
              "      <td>...</td>\n",
              "      <td>...</td>\n",
              "      <td>...</td>\n",
              "      <td>...</td>\n",
              "      <td>...</td>\n",
              "      <td>...</td>\n",
              "    </tr>\n",
              "    <tr>\n",
              "      <th>82</th>\n",
              "      <td>83</td>\n",
              "      <td>Prague17</td>\n",
              "      <td>Stefano Vegliani</td>\n",
              "      <td>M55</td>\n",
              "      <td>50.0</td>\n",
              "      <td>10.830325</td>\n",
              "      <td>NaN</td>\n",
              "      <td>2.02</td>\n",
              "      <td>3.93</td>\n",
              "      <td>D</td>\n",
              "    </tr>\n",
              "    <tr>\n",
              "      <th>83</th>\n",
              "      <td>84</td>\n",
              "      <td>Prague17</td>\n",
              "      <td>Andrej Madliak</td>\n",
              "      <td>M40</td>\n",
              "      <td>33.6</td>\n",
              "      <td>10.130653</td>\n",
              "      <td>ciclista 3h</td>\n",
              "      <td>1.94</td>\n",
              "      <td>3.93</td>\n",
              "      <td>D</td>\n",
              "    </tr>\n",
              "    <tr>\n",
              "      <th>84</th>\n",
              "      <td>85</td>\n",
              "      <td>Prague17</td>\n",
              "      <td>Yoi Ohsako</td>\n",
              "      <td>M40</td>\n",
              "      <td>55.4</td>\n",
              "      <td>11.043189</td>\n",
              "      <td>NaN</td>\n",
              "      <td>1.94</td>\n",
              "      <td>3.94</td>\n",
              "      <td>D</td>\n",
              "    </tr>\n",
              "    <tr>\n",
              "      <th>85</th>\n",
              "      <td>86</td>\n",
              "      <td>Prague17</td>\n",
              "      <td>Simon Dunn</td>\n",
              "      <td>M45</td>\n",
              "      <td>33.2</td>\n",
              "      <td>11.066667</td>\n",
              "      <td>NaN</td>\n",
              "      <td>2.05</td>\n",
              "      <td>3.95</td>\n",
              "      <td>D</td>\n",
              "    </tr>\n",
              "    <tr>\n",
              "      <th>86</th>\n",
              "      <td>87</td>\n",
              "      <td>Prague17</td>\n",
              "      <td>Pavel ?imek</td>\n",
              "      <td>M40</td>\n",
              "      <td>17.9</td>\n",
              "      <td>10.848485</td>\n",
              "      <td>ciclista 5h</td>\n",
              "      <td>2.05</td>\n",
              "      <td>3.98</td>\n",
              "      <td>D</td>\n",
              "    </tr>\n",
              "  </tbody>\n",
              "</table>\n",
              "<p>87 rows × 10 columns</p>\n",
              "</div>"
            ],
            "text/plain": [
              "    id  Marathon              Name Category  km4week    sp4week CrossTraining  \\\n",
              "0    1  Prague17      Blair MORGAN      MAM    132.8  14.434783           NaN   \n",
              "1    2  Prague17     Robert Heczko      MAM     68.6  13.674419           NaN   \n",
              "2    3  Prague17     Michon Jerome      MAM     82.7  13.520436           NaN   \n",
              "3    4  Prague17     Daniel Or lek      M45    137.5  12.258544           NaN   \n",
              "4    5  Prague17      Luk ? Mr zek      MAM     84.6  13.945055           NaN   \n",
              "..  ..       ...               ...      ...      ...        ...           ...   \n",
              "82  83  Prague17  Stefano Vegliani      M55     50.0  10.830325           NaN   \n",
              "83  84  Prague17    Andrej Madliak      M40     33.6  10.130653   ciclista 3h   \n",
              "84  85  Prague17        Yoi Ohsako      M40     55.4  11.043189           NaN   \n",
              "85  86  Prague17        Simon Dunn      M45     33.2  11.066667           NaN   \n",
              "86  87  Prague17       Pavel ?imek      M40     17.9  10.848485   ciclista 5h   \n",
              "\n",
              "   Wall21  MarathonTime CATEGORY  \n",
              "0    1.16          2.37        A  \n",
              "1    1.23          2.59        A  \n",
              "2    1.30          2.66        A  \n",
              "3    1.32          2.68        A  \n",
              "4    1.36          2.74        A  \n",
              "..    ...           ...      ...  \n",
              "82   2.02          3.93        D  \n",
              "83   1.94          3.93        D  \n",
              "84   1.94          3.94        D  \n",
              "85   2.05          3.95        D  \n",
              "86   2.05          3.98        D  \n",
              "\n",
              "[87 rows x 10 columns]"
            ]
          },
          "execution_count": 1,
          "metadata": {},
          "output_type": "execute_result"
        }
      ],
      "source": [
        "import io\n",
        "import pandas as pd\n",
        "url = 'https://raw.githubusercontent.com/rafa794/Marathon_Time_Prediction_ML_Project/5123e6ed36f8481e2510ec2c491126ae6da2bc13/MarathonData.csv'\n",
        "datos_maraton = pd.read_csv(url)\n",
        "datos_maraton"
      ]
    },
    {
      "attachments": {},
      "cell_type": "markdown",
      "metadata": {},
      "source": [
        "Get the 'Name' column from the dataframe"
      ]
    },
    {
      "cell_type": "code",
      "execution_count": 2,
      "metadata": {
        "colab": {
          "base_uri": "https://localhost:8080/"
        },
        "id": "t1o20TTsVCXA",
        "outputId": "eec7a5ba-cc60-4c20-b64c-07fd247003b9"
      },
      "outputs": [
        {
          "data": {
            "text/plain": [
              "0         Blair MORGAN\n",
              "1        Robert Heczko\n",
              "2        Michon Jerome\n",
              "3        Daniel Or lek\n",
              "4         Luk ? Mr zek\n",
              "            ...       \n",
              "82    Stefano Vegliani\n",
              "83      Andrej Madliak\n",
              "84          Yoi Ohsako\n",
              "85          Simon Dunn\n",
              "86         Pavel ?imek\n",
              "Name: Name, Length: 87, dtype: object"
            ]
          },
          "execution_count": 2,
          "metadata": {},
          "output_type": "execute_result"
        }
      ],
      "source": [
        "datos_maraton['Name']"
      ]
    },
    {
      "cell_type": "code",
      "execution_count": 3,
      "metadata": {
        "colab": {
          "base_uri": "https://localhost:8080/"
        },
        "id": "QYGk8bE-VX4a",
        "outputId": "98849069-0a18-408f-edf5-1b56524d8ce2"
      },
      "outputs": [
        {
          "name": "stdout",
          "output_type": "stream",
          "text": [
            "<class 'pandas.core.frame.DataFrame'>\n",
            "RangeIndex: 87 entries, 0 to 86\n",
            "Data columns (total 10 columns):\n",
            " #   Column         Non-Null Count  Dtype  \n",
            "---  ------         --------------  -----  \n",
            " 0   id             87 non-null     int64  \n",
            " 1   Marathon       87 non-null     object \n",
            " 2   Name           87 non-null     object \n",
            " 3   Category       81 non-null     object \n",
            " 4   km4week        87 non-null     float64\n",
            " 5   sp4week        87 non-null     float64\n",
            " 6   CrossTraining  13 non-null     object \n",
            " 7   Wall21         87 non-null     object \n",
            " 8   MarathonTime   87 non-null     float64\n",
            " 9   CATEGORY       87 non-null     object \n",
            "dtypes: float64(3), int64(1), object(6)\n",
            "memory usage: 6.9+ KB\n"
          ]
        }
      ],
      "source": [
        "datos_maraton.info()"
      ]
    },
    {
      "attachments": {},
      "cell_type": "markdown",
      "metadata": {},
      "source": [
        "Convert the 'Wall21' column to numeric data type and replace non-numeric values with NaN\n"
      ]
    },
    {
      "cell_type": "code",
      "execution_count": 4,
      "metadata": {
        "id": "j7rAsNZMVyR2"
      },
      "outputs": [],
      "source": [
        "datos_maraton['Wall21'] = pd.to_numeric(datos_maraton['Wall21'], errors ='coerce')"
      ]
    },
    {
      "attachments": {},
      "cell_type": "markdown",
      "metadata": {},
      "source": [
        "Display statistical information about the dataframe"
      ]
    },
    {
      "cell_type": "code",
      "execution_count": 5,
      "metadata": {
        "colab": {
          "base_uri": "https://localhost:8080/",
          "height": 300
        },
        "id": "7G2R3lGkWRmO",
        "outputId": "7ed89132-b879-4715-a787-dcec49ab81b7"
      },
      "outputs": [
        {
          "data": {
            "text/html": [
              "<div>\n",
              "<style scoped>\n",
              "    .dataframe tbody tr th:only-of-type {\n",
              "        vertical-align: middle;\n",
              "    }\n",
              "\n",
              "    .dataframe tbody tr th {\n",
              "        vertical-align: top;\n",
              "    }\n",
              "\n",
              "    .dataframe thead th {\n",
              "        text-align: right;\n",
              "    }\n",
              "</style>\n",
              "<table border=\"1\" class=\"dataframe\">\n",
              "  <thead>\n",
              "    <tr style=\"text-align: right;\">\n",
              "      <th></th>\n",
              "      <th>id</th>\n",
              "      <th>km4week</th>\n",
              "      <th>sp4week</th>\n",
              "      <th>Wall21</th>\n",
              "      <th>MarathonTime</th>\n",
              "    </tr>\n",
              "  </thead>\n",
              "  <tbody>\n",
              "    <tr>\n",
              "      <th>count</th>\n",
              "      <td>87.000000</td>\n",
              "      <td>87.000000</td>\n",
              "      <td>87.000000</td>\n",
              "      <td>81.000000</td>\n",
              "      <td>87.000000</td>\n",
              "    </tr>\n",
              "    <tr>\n",
              "      <th>mean</th>\n",
              "      <td>44.000000</td>\n",
              "      <td>62.347126</td>\n",
              "      <td>139.840706</td>\n",
              "      <td>1.630617</td>\n",
              "      <td>3.319080</td>\n",
              "    </tr>\n",
              "    <tr>\n",
              "      <th>std</th>\n",
              "      <td>25.258662</td>\n",
              "      <td>26.956019</td>\n",
              "      <td>1191.427864</td>\n",
              "      <td>0.210490</td>\n",
              "      <td>0.376923</td>\n",
              "    </tr>\n",
              "    <tr>\n",
              "      <th>min</th>\n",
              "      <td>1.000000</td>\n",
              "      <td>17.900000</td>\n",
              "      <td>8.031414</td>\n",
              "      <td>1.160000</td>\n",
              "      <td>2.370000</td>\n",
              "    </tr>\n",
              "    <tr>\n",
              "      <th>25%</th>\n",
              "      <td>22.500000</td>\n",
              "      <td>44.200000</td>\n",
              "      <td>11.498168</td>\n",
              "      <td>1.450000</td>\n",
              "      <td>3.045000</td>\n",
              "    </tr>\n",
              "    <tr>\n",
              "      <th>50%</th>\n",
              "      <td>44.000000</td>\n",
              "      <td>58.800000</td>\n",
              "      <td>12.163424</td>\n",
              "      <td>1.620000</td>\n",
              "      <td>3.320000</td>\n",
              "    </tr>\n",
              "    <tr>\n",
              "      <th>75%</th>\n",
              "      <td>65.500000</td>\n",
              "      <td>77.500000</td>\n",
              "      <td>12.854036</td>\n",
              "      <td>1.760000</td>\n",
              "      <td>3.605000</td>\n",
              "    </tr>\n",
              "    <tr>\n",
              "      <th>max</th>\n",
              "      <td>87.000000</td>\n",
              "      <td>137.500000</td>\n",
              "      <td>11125.000000</td>\n",
              "      <td>2.050000</td>\n",
              "      <td>3.980000</td>\n",
              "    </tr>\n",
              "  </tbody>\n",
              "</table>\n",
              "</div>"
            ],
            "text/plain": [
              "              id     km4week       sp4week     Wall21  MarathonTime\n",
              "count  87.000000   87.000000     87.000000  81.000000     87.000000\n",
              "mean   44.000000   62.347126    139.840706   1.630617      3.319080\n",
              "std    25.258662   26.956019   1191.427864   0.210490      0.376923\n",
              "min     1.000000   17.900000      8.031414   1.160000      2.370000\n",
              "25%    22.500000   44.200000     11.498168   1.450000      3.045000\n",
              "50%    44.000000   58.800000     12.163424   1.620000      3.320000\n",
              "75%    65.500000   77.500000     12.854036   1.760000      3.605000\n",
              "max    87.000000  137.500000  11125.000000   2.050000      3.980000"
            ]
          },
          "execution_count": 5,
          "metadata": {},
          "output_type": "execute_result"
        }
      ],
      "source": [
        "datos_maraton.describe()"
      ]
    },
    {
      "attachments": {},
      "cell_type": "markdown",
      "metadata": {},
      "source": [
        "Display histograms of the columns in the dataframe"
      ]
    },
    {
      "cell_type": "code",
      "execution_count": 6,
      "metadata": {
        "colab": {
          "base_uri": "https://localhost:8080/",
          "height": 350
        },
        "id": "WVR2cDObYTSq",
        "outputId": "1c97400f-5c6c-4ca3-ade6-77f5c702f214"
      },
      "outputs": [
        {
          "data": {
            "text/plain": [
              "array([[<Axes: title={'center': 'id'}>,\n",
              "        <Axes: title={'center': 'km4week'}>],\n",
              "       [<Axes: title={'center': 'sp4week'}>,\n",
              "        <Axes: title={'center': 'Wall21'}>],\n",
              "       [<Axes: title={'center': 'MarathonTime'}>, <Axes: >]], dtype=object)"
            ]
          },
          "execution_count": 6,
          "metadata": {},
          "output_type": "execute_result"
        },
        {
          "data": {
            "image/png": "[encoded data removed]",
            "text/plain": [
              "<Figure size 640x480 with 6 Axes>"
            ]
          },
          "metadata": {},
          "output_type": "display_data"
        }
      ],
      "source": [
        "datos_maraton.hist()"
      ]
    },
    {
      "attachments": {},
      "cell_type": "markdown",
      "metadata": {},
      "source": [
        "Remove unnecessary columns from the dataframe"
      ]
    },
    {
      "cell_type": "code",
      "execution_count": 7,
      "metadata": {
        "id": "VVamfmtgYxPq"
      },
      "outputs": [
        {
          "data": {
            "text/html": [
              "<div>\n",
              "<style scoped>\n",
              "    .dataframe tbody tr th:only-of-type {\n",
              "        vertical-align: middle;\n",
              "    }\n",
              "\n",
              "    .dataframe tbody tr th {\n",
              "        vertical-align: top;\n",
              "    }\n",
              "\n",
              "    .dataframe thead th {\n",
              "        text-align: right;\n",
              "    }\n",
              "</style>\n",
              "<table border=\"1\" class=\"dataframe\">\n",
              "  <thead>\n",
              "    <tr style=\"text-align: right;\">\n",
              "      <th></th>\n",
              "      <th>Category</th>\n",
              "      <th>km4week</th>\n",
              "      <th>sp4week</th>\n",
              "      <th>CrossTraining</th>\n",
              "      <th>Wall21</th>\n",
              "      <th>MarathonTime</th>\n",
              "    </tr>\n",
              "  </thead>\n",
              "  <tbody>\n",
              "    <tr>\n",
              "      <th>0</th>\n",
              "      <td>MAM</td>\n",
              "      <td>132.8</td>\n",
              "      <td>14.434783</td>\n",
              "      <td>NaN</td>\n",
              "      <td>1.16</td>\n",
              "      <td>2.37</td>\n",
              "    </tr>\n",
              "    <tr>\n",
              "      <th>1</th>\n",
              "      <td>MAM</td>\n",
              "      <td>68.6</td>\n",
              "      <td>13.674419</td>\n",
              "      <td>NaN</td>\n",
              "      <td>1.23</td>\n",
              "      <td>2.59</td>\n",
              "    </tr>\n",
              "    <tr>\n",
              "      <th>2</th>\n",
              "      <td>MAM</td>\n",
              "      <td>82.7</td>\n",
              "      <td>13.520436</td>\n",
              "      <td>NaN</td>\n",
              "      <td>1.30</td>\n",
              "      <td>2.66</td>\n",
              "    </tr>\n",
              "    <tr>\n",
              "      <th>3</th>\n",
              "      <td>M45</td>\n",
              "      <td>137.5</td>\n",
              "      <td>12.258544</td>\n",
              "      <td>NaN</td>\n",
              "      <td>1.32</td>\n",
              "      <td>2.68</td>\n",
              "    </tr>\n",
              "    <tr>\n",
              "      <th>4</th>\n",
              "      <td>MAM</td>\n",
              "      <td>84.6</td>\n",
              "      <td>13.945055</td>\n",
              "      <td>NaN</td>\n",
              "      <td>1.36</td>\n",
              "      <td>2.74</td>\n",
              "    </tr>\n",
              "    <tr>\n",
              "      <th>...</th>\n",
              "      <td>...</td>\n",
              "      <td>...</td>\n",
              "      <td>...</td>\n",
              "      <td>...</td>\n",
              "      <td>...</td>\n",
              "      <td>...</td>\n",
              "    </tr>\n",
              "    <tr>\n",
              "      <th>82</th>\n",
              "      <td>M55</td>\n",
              "      <td>50.0</td>\n",
              "      <td>10.830325</td>\n",
              "      <td>NaN</td>\n",
              "      <td>2.02</td>\n",
              "      <td>3.93</td>\n",
              "    </tr>\n",
              "    <tr>\n",
              "      <th>83</th>\n",
              "      <td>M40</td>\n",
              "      <td>33.6</td>\n",
              "      <td>10.130653</td>\n",
              "      <td>ciclista 3h</td>\n",
              "      <td>1.94</td>\n",
              "      <td>3.93</td>\n",
              "    </tr>\n",
              "    <tr>\n",
              "      <th>84</th>\n",
              "      <td>M40</td>\n",
              "      <td>55.4</td>\n",
              "      <td>11.043189</td>\n",
              "      <td>NaN</td>\n",
              "      <td>1.94</td>\n",
              "      <td>3.94</td>\n",
              "    </tr>\n",
              "    <tr>\n",
              "      <th>85</th>\n",
              "      <td>M45</td>\n",
              "      <td>33.2</td>\n",
              "      <td>11.066667</td>\n",
              "      <td>NaN</td>\n",
              "      <td>2.05</td>\n",
              "      <td>3.95</td>\n",
              "    </tr>\n",
              "    <tr>\n",
              "      <th>86</th>\n",
              "      <td>M40</td>\n",
              "      <td>17.9</td>\n",
              "      <td>10.848485</td>\n",
              "      <td>ciclista 5h</td>\n",
              "      <td>2.05</td>\n",
              "      <td>3.98</td>\n",
              "    </tr>\n",
              "  </tbody>\n",
              "</table>\n",
              "<p>87 rows × 6 columns</p>\n",
              "</div>"
            ],
            "text/plain": [
              "   Category  km4week    sp4week CrossTraining  Wall21  MarathonTime\n",
              "0       MAM    132.8  14.434783           NaN    1.16          2.37\n",
              "1       MAM     68.6  13.674419           NaN    1.23          2.59\n",
              "2       MAM     82.7  13.520436           NaN    1.30          2.66\n",
              "3       M45    137.5  12.258544           NaN    1.32          2.68\n",
              "4       MAM     84.6  13.945055           NaN    1.36          2.74\n",
              "..      ...      ...        ...           ...     ...           ...\n",
              "82      M55     50.0  10.830325           NaN    2.02          3.93\n",
              "83      M40     33.6  10.130653   ciclista 3h    1.94          3.93\n",
              "84      M40     55.4  11.043189           NaN    1.94          3.94\n",
              "85      M45     33.2  11.066667           NaN    2.05          3.95\n",
              "86      M40     17.9  10.848485   ciclista 5h    2.05          3.98\n",
              "\n",
              "[87 rows x 6 columns]"
            ]
          },
          "execution_count": 7,
          "metadata": {},
          "output_type": "execute_result"
        }
      ],
      "source": [
        "datos_maraton = datos_maraton.drop(columns=['Name'])\n",
        "datos_maraton = datos_maraton.drop(columns=['id'])\n",
        "datos_maraton = datos_maraton.drop(columns=['Marathon'])\n",
        "datos_maraton = datos_maraton.drop(columns=['CATEGORY'])\n",
        "datos_maraton"
      ]
    },
    {
      "attachments": {},
      "cell_type": "markdown",
      "metadata": {},
      "source": [
        "Count the number of missing values in each column"
      ]
    },
    {
      "cell_type": "code",
      "execution_count": 8,
      "metadata": {
        "colab": {
          "base_uri": "https://localhost:8080/"
        },
        "id": "1-43wfdwZSvu",
        "outputId": "4fec8c5c-946e-42c5-b38b-bb0cf8b94f58"
      },
      "outputs": [
        {
          "data": {
            "text/plain": [
              "Category          6\n",
              "km4week           0\n",
              "sp4week           0\n",
              "CrossTraining    74\n",
              "Wall21            6\n",
              "MarathonTime      0\n",
              "dtype: int64"
            ]
          },
          "execution_count": 8,
          "metadata": {},
          "output_type": "execute_result"
        }
      ],
      "source": [
        "datos_maraton.isna().sum()"
      ]
    },
    {
      "attachments": {},
      "cell_type": "markdown",
      "metadata": {},
      "source": [
        "Fill missing values in the 'CrossTraining' column with 0"
      ]
    },
    {
      "cell_type": "code",
      "execution_count": 9,
      "metadata": {
        "colab": {
          "base_uri": "https://localhost:8080/",
          "height": 424
        },
        "id": "XWMiA-r3bEW5",
        "outputId": "bad168a7-3e76-4f27-cf59-88d705c6fd95"
      },
      "outputs": [
        {
          "data": {
            "text/html": [
              "<div>\n",
              "<style scoped>\n",
              "    .dataframe tbody tr th:only-of-type {\n",
              "        vertical-align: middle;\n",
              "    }\n",
              "\n",
              "    .dataframe tbody tr th {\n",
              "        vertical-align: top;\n",
              "    }\n",
              "\n",
              "    .dataframe thead th {\n",
              "        text-align: right;\n",
              "    }\n",
              "</style>\n",
              "<table border=\"1\" class=\"dataframe\">\n",
              "  <thead>\n",
              "    <tr style=\"text-align: right;\">\n",
              "      <th></th>\n",
              "      <th>Category</th>\n",
              "      <th>km4week</th>\n",
              "      <th>sp4week</th>\n",
              "      <th>CrossTraining</th>\n",
              "      <th>Wall21</th>\n",
              "      <th>MarathonTime</th>\n",
              "    </tr>\n",
              "  </thead>\n",
              "  <tbody>\n",
              "    <tr>\n",
              "      <th>0</th>\n",
              "      <td>MAM</td>\n",
              "      <td>132.8</td>\n",
              "      <td>14.434783</td>\n",
              "      <td>0</td>\n",
              "      <td>1.16</td>\n",
              "      <td>2.37</td>\n",
              "    </tr>\n",
              "    <tr>\n",
              "      <th>1</th>\n",
              "      <td>MAM</td>\n",
              "      <td>68.6</td>\n",
              "      <td>13.674419</td>\n",
              "      <td>0</td>\n",
              "      <td>1.23</td>\n",
              "      <td>2.59</td>\n",
              "    </tr>\n",
              "    <tr>\n",
              "      <th>2</th>\n",
              "      <td>MAM</td>\n",
              "      <td>82.7</td>\n",
              "      <td>13.520436</td>\n",
              "      <td>0</td>\n",
              "      <td>1.30</td>\n",
              "      <td>2.66</td>\n",
              "    </tr>\n",
              "    <tr>\n",
              "      <th>3</th>\n",
              "      <td>M45</td>\n",
              "      <td>137.5</td>\n",
              "      <td>12.258544</td>\n",
              "      <td>0</td>\n",
              "      <td>1.32</td>\n",
              "      <td>2.68</td>\n",
              "    </tr>\n",
              "    <tr>\n",
              "      <th>4</th>\n",
              "      <td>MAM</td>\n",
              "      <td>84.6</td>\n",
              "      <td>13.945055</td>\n",
              "      <td>0</td>\n",
              "      <td>1.36</td>\n",
              "      <td>2.74</td>\n",
              "    </tr>\n",
              "    <tr>\n",
              "      <th>...</th>\n",
              "      <td>...</td>\n",
              "      <td>...</td>\n",
              "      <td>...</td>\n",
              "      <td>...</td>\n",
              "      <td>...</td>\n",
              "      <td>...</td>\n",
              "    </tr>\n",
              "    <tr>\n",
              "      <th>82</th>\n",
              "      <td>M55</td>\n",
              "      <td>50.0</td>\n",
              "      <td>10.830325</td>\n",
              "      <td>0</td>\n",
              "      <td>2.02</td>\n",
              "      <td>3.93</td>\n",
              "    </tr>\n",
              "    <tr>\n",
              "      <th>83</th>\n",
              "      <td>M40</td>\n",
              "      <td>33.6</td>\n",
              "      <td>10.130653</td>\n",
              "      <td>ciclista 3h</td>\n",
              "      <td>1.94</td>\n",
              "      <td>3.93</td>\n",
              "    </tr>\n",
              "    <tr>\n",
              "      <th>84</th>\n",
              "      <td>M40</td>\n",
              "      <td>55.4</td>\n",
              "      <td>11.043189</td>\n",
              "      <td>0</td>\n",
              "      <td>1.94</td>\n",
              "      <td>3.94</td>\n",
              "    </tr>\n",
              "    <tr>\n",
              "      <th>85</th>\n",
              "      <td>M45</td>\n",
              "      <td>33.2</td>\n",
              "      <td>11.066667</td>\n",
              "      <td>0</td>\n",
              "      <td>2.05</td>\n",
              "      <td>3.95</td>\n",
              "    </tr>\n",
              "    <tr>\n",
              "      <th>86</th>\n",
              "      <td>M40</td>\n",
              "      <td>17.9</td>\n",
              "      <td>10.848485</td>\n",
              "      <td>ciclista 5h</td>\n",
              "      <td>2.05</td>\n",
              "      <td>3.98</td>\n",
              "    </tr>\n",
              "  </tbody>\n",
              "</table>\n",
              "<p>87 rows × 6 columns</p>\n",
              "</div>"
            ],
            "text/plain": [
              "   Category  km4week    sp4week CrossTraining  Wall21  MarathonTime\n",
              "0       MAM    132.8  14.434783             0    1.16          2.37\n",
              "1       MAM     68.6  13.674419             0    1.23          2.59\n",
              "2       MAM     82.7  13.520436             0    1.30          2.66\n",
              "3       M45    137.5  12.258544             0    1.32          2.68\n",
              "4       MAM     84.6  13.945055             0    1.36          2.74\n",
              "..      ...      ...        ...           ...     ...           ...\n",
              "82      M55     50.0  10.830325             0    2.02          3.93\n",
              "83      M40     33.6  10.130653   ciclista 3h    1.94          3.93\n",
              "84      M40     55.4  11.043189             0    1.94          3.94\n",
              "85      M45     33.2  11.066667             0    2.05          3.95\n",
              "86      M40     17.9  10.848485   ciclista 5h    2.05          3.98\n",
              "\n",
              "[87 rows x 6 columns]"
            ]
          },
          "execution_count": 9,
          "metadata": {},
          "output_type": "execute_result"
        }
      ],
      "source": [
        "datos_maraton['CrossTraining'] = datos_maraton['CrossTraining'].fillna(0)\n",
        "datos_maraton"
      ]
    },
    {
      "attachments": {},
      "cell_type": "markdown",
      "metadata": {},
      "source": [
        "Drop any rows with missing values"
      ]
    },
    {
      "cell_type": "code",
      "execution_count": 10,
      "metadata": {
        "colab": {
          "base_uri": "https://localhost:8080/",
          "height": 424
        },
        "id": "1uc81A77b0KL",
        "outputId": "c11c49e0-ae83-4004-c886-ac28859d566f"
      },
      "outputs": [
        {
          "data": {
            "text/html": [
              "<div>\n",
              "<style scoped>\n",
              "    .dataframe tbody tr th:only-of-type {\n",
              "        vertical-align: middle;\n",
              "    }\n",
              "\n",
              "    .dataframe tbody tr th {\n",
              "        vertical-align: top;\n",
              "    }\n",
              "\n",
              "    .dataframe thead th {\n",
              "        text-align: right;\n",
              "    }\n",
              "</style>\n",
              "<table border=\"1\" class=\"dataframe\">\n",
              "  <thead>\n",
              "    <tr style=\"text-align: right;\">\n",
              "      <th></th>\n",
              "      <th>Category</th>\n",
              "      <th>km4week</th>\n",
              "      <th>sp4week</th>\n",
              "      <th>CrossTraining</th>\n",
              "      <th>Wall21</th>\n",
              "      <th>MarathonTime</th>\n",
              "    </tr>\n",
              "  </thead>\n",
              "  <tbody>\n",
              "    <tr>\n",
              "      <th>0</th>\n",
              "      <td>MAM</td>\n",
              "      <td>132.8</td>\n",
              "      <td>14.434783</td>\n",
              "      <td>0</td>\n",
              "      <td>1.16</td>\n",
              "      <td>2.37</td>\n",
              "    </tr>\n",
              "    <tr>\n",
              "      <th>1</th>\n",
              "      <td>MAM</td>\n",
              "      <td>68.6</td>\n",
              "      <td>13.674419</td>\n",
              "      <td>0</td>\n",
              "      <td>1.23</td>\n",
              "      <td>2.59</td>\n",
              "    </tr>\n",
              "    <tr>\n",
              "      <th>2</th>\n",
              "      <td>MAM</td>\n",
              "      <td>82.7</td>\n",
              "      <td>13.520436</td>\n",
              "      <td>0</td>\n",
              "      <td>1.30</td>\n",
              "      <td>2.66</td>\n",
              "    </tr>\n",
              "    <tr>\n",
              "      <th>3</th>\n",
              "      <td>M45</td>\n",
              "      <td>137.5</td>\n",
              "      <td>12.258544</td>\n",
              "      <td>0</td>\n",
              "      <td>1.32</td>\n",
              "      <td>2.68</td>\n",
              "    </tr>\n",
              "    <tr>\n",
              "      <th>4</th>\n",
              "      <td>MAM</td>\n",
              "      <td>84.6</td>\n",
              "      <td>13.945055</td>\n",
              "      <td>0</td>\n",
              "      <td>1.36</td>\n",
              "      <td>2.74</td>\n",
              "    </tr>\n",
              "    <tr>\n",
              "      <th>...</th>\n",
              "      <td>...</td>\n",
              "      <td>...</td>\n",
              "      <td>...</td>\n",
              "      <td>...</td>\n",
              "      <td>...</td>\n",
              "      <td>...</td>\n",
              "    </tr>\n",
              "    <tr>\n",
              "      <th>82</th>\n",
              "      <td>M55</td>\n",
              "      <td>50.0</td>\n",
              "      <td>10.830325</td>\n",
              "      <td>0</td>\n",
              "      <td>2.02</td>\n",
              "      <td>3.93</td>\n",
              "    </tr>\n",
              "    <tr>\n",
              "      <th>83</th>\n",
              "      <td>M40</td>\n",
              "      <td>33.6</td>\n",
              "      <td>10.130653</td>\n",
              "      <td>ciclista 3h</td>\n",
              "      <td>1.94</td>\n",
              "      <td>3.93</td>\n",
              "    </tr>\n",
              "    <tr>\n",
              "      <th>84</th>\n",
              "      <td>M40</td>\n",
              "      <td>55.4</td>\n",
              "      <td>11.043189</td>\n",
              "      <td>0</td>\n",
              "      <td>1.94</td>\n",
              "      <td>3.94</td>\n",
              "    </tr>\n",
              "    <tr>\n",
              "      <th>85</th>\n",
              "      <td>M45</td>\n",
              "      <td>33.2</td>\n",
              "      <td>11.066667</td>\n",
              "      <td>0</td>\n",
              "      <td>2.05</td>\n",
              "      <td>3.95</td>\n",
              "    </tr>\n",
              "    <tr>\n",
              "      <th>86</th>\n",
              "      <td>M40</td>\n",
              "      <td>17.9</td>\n",
              "      <td>10.848485</td>\n",
              "      <td>ciclista 5h</td>\n",
              "      <td>2.05</td>\n",
              "      <td>3.98</td>\n",
              "    </tr>\n",
              "  </tbody>\n",
              "</table>\n",
              "<p>81 rows × 6 columns</p>\n",
              "</div>"
            ],
            "text/plain": [
              "   Category  km4week    sp4week CrossTraining  Wall21  MarathonTime\n",
              "0       MAM    132.8  14.434783             0    1.16          2.37\n",
              "1       MAM     68.6  13.674419             0    1.23          2.59\n",
              "2       MAM     82.7  13.520436             0    1.30          2.66\n",
              "3       M45    137.5  12.258544             0    1.32          2.68\n",
              "4       MAM     84.6  13.945055             0    1.36          2.74\n",
              "..      ...      ...        ...           ...     ...           ...\n",
              "82      M55     50.0  10.830325             0    2.02          3.93\n",
              "83      M40     33.6  10.130653   ciclista 3h    1.94          3.93\n",
              "84      M40     55.4  11.043189             0    1.94          3.94\n",
              "85      M45     33.2  11.066667             0    2.05          3.95\n",
              "86      M40     17.9  10.848485   ciclista 5h    2.05          3.98\n",
              "\n",
              "[81 rows x 6 columns]"
            ]
          },
          "execution_count": 10,
          "metadata": {},
          "output_type": "execute_result"
        }
      ],
      "source": [
        "datos_maraton = datos_maraton.dropna(how='any')\n",
        "datos_maraton"
      ]
    },
    {
      "attachments": {},
      "cell_type": "markdown",
      "metadata": {},
      "source": [
        "Display unique values in the 'CrossTraining' column"
      ]
    },
    {
      "cell_type": "code",
      "execution_count": 11,
      "metadata": {},
      "outputs": [
        {
          "data": {
            "text/plain": [
              "array([0, 'ciclista 1h', 'ciclista 4h', 'ciclista 13h', 'ciclista 3h',\n",
              "       'ciclista 5h'], dtype=object)"
            ]
          },
          "execution_count": 11,
          "metadata": {},
          "output_type": "execute_result"
        }
      ],
      "source": [
        "datos_maraton['CrossTraining'].unique()"
      ]
    },
    {
      "attachments": {},
      "cell_type": "markdown",
      "metadata": {},
      "source": [
        "Replace string values in the 'CrossTraining' column with numerical values"
      ]
    },
    {
      "cell_type": "code",
      "execution_count": 12,
      "metadata": {},
      "outputs": [
        {
          "name": "stderr",
          "output_type": "stream",
          "text": [
            "C:\\Users\\rafam\\AppData\\Local\\Temp\\ipykernel_12688\\3103510115.py:2: SettingWithCopyWarning: \n",
            "A value is trying to be set on a copy of a slice from a DataFrame.\n",
            "Try using .loc[row_indexer,col_indexer] = value instead\n",
            "\n",
            "See the caveats in the documentation: https://pandas.pydata.org/pandas-docs/stable/user_guide/indexing.html#returning-a-view-versus-a-copy\n",
            "  datos_maraton.replace(valores_cross, inplace = True)\n"
          ]
        },
        {
          "data": {
            "text/html": [
              "<div>\n",
              "<style scoped>\n",
              "    .dataframe tbody tr th:only-of-type {\n",
              "        vertical-align: middle;\n",
              "    }\n",
              "\n",
              "    .dataframe tbody tr th {\n",
              "        vertical-align: top;\n",
              "    }\n",
              "\n",
              "    .dataframe thead th {\n",
              "        text-align: right;\n",
              "    }\n",
              "</style>\n",
              "<table border=\"1\" class=\"dataframe\">\n",
              "  <thead>\n",
              "    <tr style=\"text-align: right;\">\n",
              "      <th></th>\n",
              "      <th>Category</th>\n",
              "      <th>km4week</th>\n",
              "      <th>sp4week</th>\n",
              "      <th>CrossTraining</th>\n",
              "      <th>Wall21</th>\n",
              "      <th>MarathonTime</th>\n",
              "    </tr>\n",
              "  </thead>\n",
              "  <tbody>\n",
              "    <tr>\n",
              "      <th>0</th>\n",
              "      <td>MAM</td>\n",
              "      <td>132.8</td>\n",
              "      <td>14.434783</td>\n",
              "      <td>0</td>\n",
              "      <td>1.16</td>\n",
              "      <td>2.37</td>\n",
              "    </tr>\n",
              "    <tr>\n",
              "      <th>1</th>\n",
              "      <td>MAM</td>\n",
              "      <td>68.6</td>\n",
              "      <td>13.674419</td>\n",
              "      <td>0</td>\n",
              "      <td>1.23</td>\n",
              "      <td>2.59</td>\n",
              "    </tr>\n",
              "    <tr>\n",
              "      <th>2</th>\n",
              "      <td>MAM</td>\n",
              "      <td>82.7</td>\n",
              "      <td>13.520436</td>\n",
              "      <td>0</td>\n",
              "      <td>1.30</td>\n",
              "      <td>2.66</td>\n",
              "    </tr>\n",
              "    <tr>\n",
              "      <th>3</th>\n",
              "      <td>M45</td>\n",
              "      <td>137.5</td>\n",
              "      <td>12.258544</td>\n",
              "      <td>0</td>\n",
              "      <td>1.32</td>\n",
              "      <td>2.68</td>\n",
              "    </tr>\n",
              "    <tr>\n",
              "      <th>4</th>\n",
              "      <td>MAM</td>\n",
              "      <td>84.6</td>\n",
              "      <td>13.945055</td>\n",
              "      <td>0</td>\n",
              "      <td>1.36</td>\n",
              "      <td>2.74</td>\n",
              "    </tr>\n",
              "    <tr>\n",
              "      <th>...</th>\n",
              "      <td>...</td>\n",
              "      <td>...</td>\n",
              "      <td>...</td>\n",
              "      <td>...</td>\n",
              "      <td>...</td>\n",
              "      <td>...</td>\n",
              "    </tr>\n",
              "    <tr>\n",
              "      <th>82</th>\n",
              "      <td>M55</td>\n",
              "      <td>50.0</td>\n",
              "      <td>10.830325</td>\n",
              "      <td>0</td>\n",
              "      <td>2.02</td>\n",
              "      <td>3.93</td>\n",
              "    </tr>\n",
              "    <tr>\n",
              "      <th>83</th>\n",
              "      <td>M40</td>\n",
              "      <td>33.6</td>\n",
              "      <td>10.130653</td>\n",
              "      <td>2</td>\n",
              "      <td>1.94</td>\n",
              "      <td>3.93</td>\n",
              "    </tr>\n",
              "    <tr>\n",
              "      <th>84</th>\n",
              "      <td>M40</td>\n",
              "      <td>55.4</td>\n",
              "      <td>11.043189</td>\n",
              "      <td>0</td>\n",
              "      <td>1.94</td>\n",
              "      <td>3.94</td>\n",
              "    </tr>\n",
              "    <tr>\n",
              "      <th>85</th>\n",
              "      <td>M45</td>\n",
              "      <td>33.2</td>\n",
              "      <td>11.066667</td>\n",
              "      <td>0</td>\n",
              "      <td>2.05</td>\n",
              "      <td>3.95</td>\n",
              "    </tr>\n",
              "    <tr>\n",
              "      <th>86</th>\n",
              "      <td>M40</td>\n",
              "      <td>17.9</td>\n",
              "      <td>10.848485</td>\n",
              "      <td>4</td>\n",
              "      <td>2.05</td>\n",
              "      <td>3.98</td>\n",
              "    </tr>\n",
              "  </tbody>\n",
              "</table>\n",
              "<p>81 rows × 6 columns</p>\n",
              "</div>"
            ],
            "text/plain": [
              "   Category  km4week    sp4week  CrossTraining  Wall21  MarathonTime\n",
              "0       MAM    132.8  14.434783              0    1.16          2.37\n",
              "1       MAM     68.6  13.674419              0    1.23          2.59\n",
              "2       MAM     82.7  13.520436              0    1.30          2.66\n",
              "3       M45    137.5  12.258544              0    1.32          2.68\n",
              "4       MAM     84.6  13.945055              0    1.36          2.74\n",
              "..      ...      ...        ...            ...     ...           ...\n",
              "82      M55     50.0  10.830325              0    2.02          3.93\n",
              "83      M40     33.6  10.130653              2    1.94          3.93\n",
              "84      M40     55.4  11.043189              0    1.94          3.94\n",
              "85      M45     33.2  11.066667              0    2.05          3.95\n",
              "86      M40     17.9  10.848485              4    2.05          3.98\n",
              "\n",
              "[81 rows x 6 columns]"
            ]
          },
          "execution_count": 12,
          "metadata": {},
          "output_type": "execute_result"
        }
      ],
      "source": [
        "valores_cross = {'CrossTraining': {'ciclista 1h' : 1, 'ciclista 3h' : 2, 'ciclista 4h' : 3, 'ciclista 5h': 4, 'ciclista 13h': 5, 'M50': 6}}\n",
        "datos_maraton.replace(valores_cross, inplace = True)\n",
        "datos_maraton"
      ]
    },
    {
      "attachments": {},
      "cell_type": "markdown",
      "metadata": {},
      "source": [
        "Replace string values in the 'Category' column with numerical values"
      ]
    },
    {
      "cell_type": "code",
      "execution_count": 13,
      "metadata": {},
      "outputs": [
        {
          "name": "stderr",
          "output_type": "stream",
          "text": [
            "C:\\Users\\rafam\\AppData\\Local\\Temp\\ipykernel_12688\\3392002489.py:2: SettingWithCopyWarning: \n",
            "A value is trying to be set on a copy of a slice from a DataFrame.\n",
            "Try using .loc[row_indexer,col_indexer] = value instead\n",
            "\n",
            "See the caveats in the documentation: https://pandas.pydata.org/pandas-docs/stable/user_guide/indexing.html#returning-a-view-versus-a-copy\n",
            "  datos_maraton.replace(valores_cross, inplace = True)\n"
          ]
        },
        {
          "data": {
            "text/html": [
              "<div>\n",
              "<style scoped>\n",
              "    .dataframe tbody tr th:only-of-type {\n",
              "        vertical-align: middle;\n",
              "    }\n",
              "\n",
              "    .dataframe tbody tr th {\n",
              "        vertical-align: top;\n",
              "    }\n",
              "\n",
              "    .dataframe thead th {\n",
              "        text-align: right;\n",
              "    }\n",
              "</style>\n",
              "<table border=\"1\" class=\"dataframe\">\n",
              "  <thead>\n",
              "    <tr style=\"text-align: right;\">\n",
              "      <th></th>\n",
              "      <th>Category</th>\n",
              "      <th>km4week</th>\n",
              "      <th>sp4week</th>\n",
              "      <th>CrossTraining</th>\n",
              "      <th>Wall21</th>\n",
              "      <th>MarathonTime</th>\n",
              "    </tr>\n",
              "  </thead>\n",
              "  <tbody>\n",
              "    <tr>\n",
              "      <th>0</th>\n",
              "      <td>1</td>\n",
              "      <td>132.8</td>\n",
              "      <td>14.434783</td>\n",
              "      <td>0</td>\n",
              "      <td>1.16</td>\n",
              "      <td>2.37</td>\n",
              "    </tr>\n",
              "    <tr>\n",
              "      <th>1</th>\n",
              "      <td>1</td>\n",
              "      <td>68.6</td>\n",
              "      <td>13.674419</td>\n",
              "      <td>0</td>\n",
              "      <td>1.23</td>\n",
              "      <td>2.59</td>\n",
              "    </tr>\n",
              "    <tr>\n",
              "      <th>2</th>\n",
              "      <td>1</td>\n",
              "      <td>82.7</td>\n",
              "      <td>13.520436</td>\n",
              "      <td>0</td>\n",
              "      <td>1.30</td>\n",
              "      <td>2.66</td>\n",
              "    </tr>\n",
              "    <tr>\n",
              "      <th>3</th>\n",
              "      <td>2</td>\n",
              "      <td>137.5</td>\n",
              "      <td>12.258544</td>\n",
              "      <td>0</td>\n",
              "      <td>1.32</td>\n",
              "      <td>2.68</td>\n",
              "    </tr>\n",
              "    <tr>\n",
              "      <th>4</th>\n",
              "      <td>1</td>\n",
              "      <td>84.6</td>\n",
              "      <td>13.945055</td>\n",
              "      <td>0</td>\n",
              "      <td>1.36</td>\n",
              "      <td>2.74</td>\n",
              "    </tr>\n",
              "    <tr>\n",
              "      <th>...</th>\n",
              "      <td>...</td>\n",
              "      <td>...</td>\n",
              "      <td>...</td>\n",
              "      <td>...</td>\n",
              "      <td>...</td>\n",
              "      <td>...</td>\n",
              "    </tr>\n",
              "    <tr>\n",
              "      <th>82</th>\n",
              "      <td>5</td>\n",
              "      <td>50.0</td>\n",
              "      <td>10.830325</td>\n",
              "      <td>0</td>\n",
              "      <td>2.02</td>\n",
              "      <td>3.93</td>\n",
              "    </tr>\n",
              "    <tr>\n",
              "      <th>83</th>\n",
              "      <td>3</td>\n",
              "      <td>33.6</td>\n",
              "      <td>10.130653</td>\n",
              "      <td>2</td>\n",
              "      <td>1.94</td>\n",
              "      <td>3.93</td>\n",
              "    </tr>\n",
              "    <tr>\n",
              "      <th>84</th>\n",
              "      <td>3</td>\n",
              "      <td>55.4</td>\n",
              "      <td>11.043189</td>\n",
              "      <td>0</td>\n",
              "      <td>1.94</td>\n",
              "      <td>3.94</td>\n",
              "    </tr>\n",
              "    <tr>\n",
              "      <th>85</th>\n",
              "      <td>2</td>\n",
              "      <td>33.2</td>\n",
              "      <td>11.066667</td>\n",
              "      <td>0</td>\n",
              "      <td>2.05</td>\n",
              "      <td>3.95</td>\n",
              "    </tr>\n",
              "    <tr>\n",
              "      <th>86</th>\n",
              "      <td>3</td>\n",
              "      <td>17.9</td>\n",
              "      <td>10.848485</td>\n",
              "      <td>4</td>\n",
              "      <td>2.05</td>\n",
              "      <td>3.98</td>\n",
              "    </tr>\n",
              "  </tbody>\n",
              "</table>\n",
              "<p>81 rows × 6 columns</p>\n",
              "</div>"
            ],
            "text/plain": [
              "    Category  km4week    sp4week  CrossTraining  Wall21  MarathonTime\n",
              "0          1    132.8  14.434783              0    1.16          2.37\n",
              "1          1     68.6  13.674419              0    1.23          2.59\n",
              "2          1     82.7  13.520436              0    1.30          2.66\n",
              "3          2    137.5  12.258544              0    1.32          2.68\n",
              "4          1     84.6  13.945055              0    1.36          2.74\n",
              "..       ...      ...        ...            ...     ...           ...\n",
              "82         5     50.0  10.830325              0    2.02          3.93\n",
              "83         3     33.6  10.130653              2    1.94          3.93\n",
              "84         3     55.4  11.043189              0    1.94          3.94\n",
              "85         2     33.2  11.066667              0    2.05          3.95\n",
              "86         3     17.9  10.848485              4    2.05          3.98\n",
              "\n",
              "[81 rows x 6 columns]"
            ]
          },
          "execution_count": 13,
          "metadata": {},
          "output_type": "execute_result"
        }
      ],
      "source": [
        "valores_cross = {'Category': {'MAM' : 1, 'M45' : 2, 'M40' : 3, 'WAM': 4, 'M55': 5, 'M50' : 6}}\n",
        "datos_maraton.replace(valores_cross, inplace = True)\n",
        "datos_maraton"
      ]
    },
    {
      "attachments": {},
      "cell_type": "markdown",
      "metadata": {},
      "source": [
        "Plot a scatter plot of 'km4week' vs 'MarathonTime', then the same with 'km3week', 'sp4week' and 'Wall21'"
      ]
    },
    {
      "cell_type": "code",
      "execution_count": 14,
      "metadata": {},
      "outputs": [
        {
          "data": {
            "image/png": "[encoded data removed]",
            "text/plain": [
              "<Figure size 640x480 with 1 Axes>"
            ]
          },
          "metadata": {},
          "output_type": "display_data"
        }
      ],
      "source": [
        "import matplotlib.pyplot as plt\n",
        "plt.scatter(x = datos_maraton['km4week'], y = datos_maraton['MarathonTime'])\n",
        "plt.title('km4week VS Marathon Time')\n",
        "plt.xlabel('km4week')\n",
        "plt.ylabel('Marathon Time')\n",
        "plt.show()\n"
      ]
    },
    {
      "cell_type": "code",
      "execution_count": 15,
      "metadata": {},
      "outputs": [
        {
          "data": {
            "image/png": "[encoded data removed]",
            "text/plain": [
              "<Figure size 640x480 with 1 Axes>"
            ]
          },
          "metadata": {},
          "output_type": "display_data"
        }
      ],
      "source": [
        "import matplotlib.pyplot as plt\n",
        "plt.scatter(x = datos_maraton['sp4week'], y = datos_maraton['MarathonTime'])\n",
        "plt.title('sp4week VS Marathon Time')\n",
        "plt.xlabel('sp4week')\n",
        "plt.ylabel('Marathon Time')\n",
        "plt.show()"
      ]
    },
    {
      "attachments": {},
      "cell_type": "markdown",
      "metadata": {},
      "source": [
        "Remove rows where 'sp4week' is greater than 1000"
      ]
    },
    {
      "cell_type": "code",
      "execution_count": 16,
      "metadata": {},
      "outputs": [],
      "source": [
        "datos_maraton = datos_maraton.query('sp4week<1000')"
      ]
    },
    {
      "cell_type": "code",
      "execution_count": 17,
      "metadata": {},
      "outputs": [
        {
          "data": {
            "image/png": "[encoded data removed]",
            "text/plain": [
              "<Figure size 640x480 with 1 Axes>"
            ]
          },
          "metadata": {},
          "output_type": "display_data"
        }
      ],
      "source": [
        "import matplotlib.pyplot as plt\n",
        "plt.scatter(x = datos_maraton['sp4week'], y = datos_maraton['MarathonTime'])\n",
        "plt.title('sp4week VS Marathon Time')\n",
        "plt.xlabel('sp4week')\n",
        "plt.ylabel('Marathon Time')\n",
        "plt.show()"
      ]
    },
    {
      "cell_type": "code",
      "execution_count": 18,
      "metadata": {},
      "outputs": [
        {
          "data": {
            "image/png": "[encoded data removed]",
            "text/plain": [
              "<Figure size 640x480 with 1 Axes>"
            ]
          },
          "metadata": {},
          "output_type": "display_data"
        }
      ],
      "source": [
        "import matplotlib.pyplot as plt\n",
        "plt.scatter(x = datos_maraton['Wall21'], y = datos_maraton['MarathonTime'])\n",
        "plt.title('Wall21 VS Marathon Time')\n",
        "plt.xlabel('Wall21')\n",
        "plt.ylabel('Marathon Time')\n",
        "plt.show()"
      ]
    },
    {
      "cell_type": "code",
      "execution_count": 19,
      "metadata": {},
      "outputs": [
        {
          "data": {
            "text/html": [
              "<div>\n",
              "<style scoped>\n",
              "    .dataframe tbody tr th:only-of-type {\n",
              "        vertical-align: middle;\n",
              "    }\n",
              "\n",
              "    .dataframe tbody tr th {\n",
              "        vertical-align: top;\n",
              "    }\n",
              "\n",
              "    .dataframe thead th {\n",
              "        text-align: right;\n",
              "    }\n",
              "</style>\n",
              "<table border=\"1\" class=\"dataframe\">\n",
              "  <thead>\n",
              "    <tr style=\"text-align: right;\">\n",
              "      <th></th>\n",
              "      <th>Category</th>\n",
              "      <th>km4week</th>\n",
              "      <th>sp4week</th>\n",
              "      <th>CrossTraining</th>\n",
              "      <th>Wall21</th>\n",
              "      <th>MarathonTime</th>\n",
              "    </tr>\n",
              "  </thead>\n",
              "  <tbody>\n",
              "    <tr>\n",
              "      <th>0</th>\n",
              "      <td>1</td>\n",
              "      <td>132.8</td>\n",
              "      <td>14.434783</td>\n",
              "      <td>0</td>\n",
              "      <td>1.16</td>\n",
              "      <td>2.37</td>\n",
              "    </tr>\n",
              "    <tr>\n",
              "      <th>1</th>\n",
              "      <td>1</td>\n",
              "      <td>68.6</td>\n",
              "      <td>13.674419</td>\n",
              "      <td>0</td>\n",
              "      <td>1.23</td>\n",
              "      <td>2.59</td>\n",
              "    </tr>\n",
              "    <tr>\n",
              "      <th>2</th>\n",
              "      <td>1</td>\n",
              "      <td>82.7</td>\n",
              "      <td>13.520436</td>\n",
              "      <td>0</td>\n",
              "      <td>1.30</td>\n",
              "      <td>2.66</td>\n",
              "    </tr>\n",
              "    <tr>\n",
              "      <th>3</th>\n",
              "      <td>2</td>\n",
              "      <td>137.5</td>\n",
              "      <td>12.258544</td>\n",
              "      <td>0</td>\n",
              "      <td>1.32</td>\n",
              "      <td>2.68</td>\n",
              "    </tr>\n",
              "    <tr>\n",
              "      <th>4</th>\n",
              "      <td>1</td>\n",
              "      <td>84.6</td>\n",
              "      <td>13.945055</td>\n",
              "      <td>0</td>\n",
              "      <td>1.36</td>\n",
              "      <td>2.74</td>\n",
              "    </tr>\n",
              "    <tr>\n",
              "      <th>...</th>\n",
              "      <td>...</td>\n",
              "      <td>...</td>\n",
              "      <td>...</td>\n",
              "      <td>...</td>\n",
              "      <td>...</td>\n",
              "      <td>...</td>\n",
              "    </tr>\n",
              "    <tr>\n",
              "      <th>82</th>\n",
              "      <td>5</td>\n",
              "      <td>50.0</td>\n",
              "      <td>10.830325</td>\n",
              "      <td>0</td>\n",
              "      <td>2.02</td>\n",
              "      <td>3.93</td>\n",
              "    </tr>\n",
              "    <tr>\n",
              "      <th>83</th>\n",
              "      <td>3</td>\n",
              "      <td>33.6</td>\n",
              "      <td>10.130653</td>\n",
              "      <td>2</td>\n",
              "      <td>1.94</td>\n",
              "      <td>3.93</td>\n",
              "    </tr>\n",
              "    <tr>\n",
              "      <th>84</th>\n",
              "      <td>3</td>\n",
              "      <td>55.4</td>\n",
              "      <td>11.043189</td>\n",
              "      <td>0</td>\n",
              "      <td>1.94</td>\n",
              "      <td>3.94</td>\n",
              "    </tr>\n",
              "    <tr>\n",
              "      <th>85</th>\n",
              "      <td>2</td>\n",
              "      <td>33.2</td>\n",
              "      <td>11.066667</td>\n",
              "      <td>0</td>\n",
              "      <td>2.05</td>\n",
              "      <td>3.95</td>\n",
              "    </tr>\n",
              "    <tr>\n",
              "      <th>86</th>\n",
              "      <td>3</td>\n",
              "      <td>17.9</td>\n",
              "      <td>10.848485</td>\n",
              "      <td>4</td>\n",
              "      <td>2.05</td>\n",
              "      <td>3.98</td>\n",
              "    </tr>\n",
              "  </tbody>\n",
              "</table>\n",
              "<p>80 rows × 6 columns</p>\n",
              "</div>"
            ],
            "text/plain": [
              "    Category  km4week    sp4week  CrossTraining  Wall21  MarathonTime\n",
              "0          1    132.8  14.434783              0    1.16          2.37\n",
              "1          1     68.6  13.674419              0    1.23          2.59\n",
              "2          1     82.7  13.520436              0    1.30          2.66\n",
              "3          2    137.5  12.258544              0    1.32          2.68\n",
              "4          1     84.6  13.945055              0    1.36          2.74\n",
              "..       ...      ...        ...            ...     ...           ...\n",
              "82         5     50.0  10.830325              0    2.02          3.93\n",
              "83         3     33.6  10.130653              2    1.94          3.93\n",
              "84         3     55.4  11.043189              0    1.94          3.94\n",
              "85         2     33.2  11.066667              0    2.05          3.95\n",
              "86         3     17.9  10.848485              4    2.05          3.98\n",
              "\n",
              "[80 rows x 6 columns]"
            ]
          },
          "execution_count": 19,
          "metadata": {},
          "output_type": "execute_result"
        }
      ],
      "source": [
        "datos_maraton"
      ]
    },
    {
      "attachments": {},
      "cell_type": "markdown",
      "metadata": {},
      "source": [
        "PHASE 2: Model Training"
      ]
    },
    {
      "attachments": {},
      "cell_type": "markdown",
      "metadata": {},
      "source": [
        "Selecting 80% of the data for training and remaining 20% for testing"
      ]
    },
    {
      "cell_type": "code",
      "execution_count": 20,
      "metadata": {},
      "outputs": [],
      "source": [
        "datos_entrenamiento = datos_maraton.sample(frac=0.8,random_state=0)\n",
        "datos_test = datos_maraton.drop(datos_entrenamiento.index)"
      ]
    },
    {
      "cell_type": "code",
      "execution_count": 21,
      "metadata": {},
      "outputs": [
        {
          "data": {
            "text/html": [
              "<div>\n",
              "<style scoped>\n",
              "    .dataframe tbody tr th:only-of-type {\n",
              "        vertical-align: middle;\n",
              "    }\n",
              "\n",
              "    .dataframe tbody tr th {\n",
              "        vertical-align: top;\n",
              "    }\n",
              "\n",
              "    .dataframe thead th {\n",
              "        text-align: right;\n",
              "    }\n",
              "</style>\n",
              "<table border=\"1\" class=\"dataframe\">\n",
              "  <thead>\n",
              "    <tr style=\"text-align: right;\">\n",
              "      <th></th>\n",
              "      <th>Category</th>\n",
              "      <th>km4week</th>\n",
              "      <th>sp4week</th>\n",
              "      <th>CrossTraining</th>\n",
              "      <th>Wall21</th>\n",
              "      <th>MarathonTime</th>\n",
              "    </tr>\n",
              "  </thead>\n",
              "  <tbody>\n",
              "    <tr>\n",
              "      <th>54</th>\n",
              "      <td>3</td>\n",
              "      <td>70.7</td>\n",
              "      <td>11.783333</td>\n",
              "      <td>0</td>\n",
              "      <td>1.77</td>\n",
              "      <td>3.47</td>\n",
              "    </tr>\n",
              "    <tr>\n",
              "      <th>28</th>\n",
              "      <td>2</td>\n",
              "      <td>51.6</td>\n",
              "      <td>13.008403</td>\n",
              "      <td>0</td>\n",
              "      <td>1.50</td>\n",
              "      <td>3.15</td>\n",
              "    </tr>\n",
              "    <tr>\n",
              "      <th>31</th>\n",
              "      <td>1</td>\n",
              "      <td>79.4</td>\n",
              "      <td>13.344538</td>\n",
              "      <td>0</td>\n",
              "      <td>1.60</td>\n",
              "      <td>3.19</td>\n",
              "    </tr>\n",
              "    <tr>\n",
              "      <th>84</th>\n",
              "      <td>3</td>\n",
              "      <td>55.4</td>\n",
              "      <td>11.043189</td>\n",
              "      <td>0</td>\n",
              "      <td>1.94</td>\n",
              "      <td>3.94</td>\n",
              "    </tr>\n",
              "    <tr>\n",
              "      <th>47</th>\n",
              "      <td>2</td>\n",
              "      <td>39.6</td>\n",
              "      <td>12.247423</td>\n",
              "      <td>0</td>\n",
              "      <td>1.67</td>\n",
              "      <td>3.35</td>\n",
              "    </tr>\n",
              "    <tr>\n",
              "      <th>...</th>\n",
              "      <td>...</td>\n",
              "      <td>...</td>\n",
              "      <td>...</td>\n",
              "      <td>...</td>\n",
              "      <td>...</td>\n",
              "      <td>...</td>\n",
              "    </tr>\n",
              "    <tr>\n",
              "      <th>55</th>\n",
              "      <td>1</td>\n",
              "      <td>26.9</td>\n",
              "      <td>13.121951</td>\n",
              "      <td>0</td>\n",
              "      <td>1.67</td>\n",
              "      <td>3.50</td>\n",
              "    </tr>\n",
              "    <tr>\n",
              "      <th>20</th>\n",
              "      <td>1</td>\n",
              "      <td>94.5</td>\n",
              "      <td>11.886792</td>\n",
              "      <td>0</td>\n",
              "      <td>1.45</td>\n",
              "      <td>2.99</td>\n",
              "    </tr>\n",
              "    <tr>\n",
              "      <th>79</th>\n",
              "      <td>1</td>\n",
              "      <td>53.9</td>\n",
              "      <td>11.802920</td>\n",
              "      <td>0</td>\n",
              "      <td>1.98</td>\n",
              "      <td>3.90</td>\n",
              "    </tr>\n",
              "    <tr>\n",
              "      <th>8</th>\n",
              "      <td>1</td>\n",
              "      <td>70.0</td>\n",
              "      <td>13.770492</td>\n",
              "      <td>1</td>\n",
              "      <td>1.38</td>\n",
              "      <td>2.83</td>\n",
              "    </tr>\n",
              "    <tr>\n",
              "      <th>13</th>\n",
              "      <td>3</td>\n",
              "      <td>84.4</td>\n",
              "      <td>13.836066</td>\n",
              "      <td>0</td>\n",
              "      <td>1.41</td>\n",
              "      <td>2.88</td>\n",
              "    </tr>\n",
              "  </tbody>\n",
              "</table>\n",
              "<p>64 rows × 6 columns</p>\n",
              "</div>"
            ],
            "text/plain": [
              "    Category  km4week    sp4week  CrossTraining  Wall21  MarathonTime\n",
              "54         3     70.7  11.783333              0    1.77          3.47\n",
              "28         2     51.6  13.008403              0    1.50          3.15\n",
              "31         1     79.4  13.344538              0    1.60          3.19\n",
              "84         3     55.4  11.043189              0    1.94          3.94\n",
              "47         2     39.6  12.247423              0    1.67          3.35\n",
              "..       ...      ...        ...            ...     ...           ...\n",
              "55         1     26.9  13.121951              0    1.67          3.50\n",
              "20         1     94.5  11.886792              0    1.45          2.99\n",
              "79         1     53.9  11.802920              0    1.98          3.90\n",
              "8          1     70.0  13.770492              1    1.38          2.83\n",
              "13         3     84.4  13.836066              0    1.41          2.88\n",
              "\n",
              "[64 rows x 6 columns]"
            ]
          },
          "execution_count": 21,
          "metadata": {},
          "output_type": "execute_result"
        }
      ],
      "source": [
        "datos_entrenamiento"
      ]
    },
    {
      "attachments": {},
      "cell_type": "markdown",
      "metadata": {},
      "source": [
        "Removing the target variable 'MarathonTime' from the training and testing datasets"
      ]
    },
    {
      "cell_type": "code",
      "execution_count": 22,
      "metadata": {},
      "outputs": [],
      "source": [
        "etiquetas_entrenamiento = datos_entrenamiento.pop('MarathonTime')\n",
        "etiquetas_test = datos_test.pop('MarathonTime') "
      ]
    },
    {
      "cell_type": "code",
      "execution_count": 23,
      "metadata": {},
      "outputs": [
        {
          "data": {
            "text/plain": [
              "54    3.47\n",
              "28    3.15\n",
              "31    3.19\n",
              "84    3.94\n",
              "47    3.35\n",
              "      ... \n",
              "55    3.50\n",
              "20    2.99\n",
              "79    3.90\n",
              "8     2.83\n",
              "13    2.88\n",
              "Name: MarathonTime, Length: 64, dtype: float64"
            ]
          },
          "execution_count": 23,
          "metadata": {},
          "output_type": "execute_result"
        }
      ],
      "source": [
        "etiquetas_entrenamiento"
      ]
    },
    {
      "attachments": {},
      "cell_type": "markdown",
      "metadata": {},
      "source": [
        "Creating a Linear Regression model and fitting it to the training data"
      ]
    },
    {
      "cell_type": "code",
      "execution_count": 24,
      "metadata": {},
      "outputs": [],
      "source": [
        "from sklearn.linear_model import LinearRegression\n",
        "modelo = LinearRegression()\n",
        "modelo.fit(datos_entrenamiento, etiquetas_entrenamiento)"
      ]
    },
    {
      "attachments": {},
      "cell_type": "markdown",
      "metadata": {},
      "source": [
        "Making predictions on the testing data using the trained model"
      ]
    },
    {
      "cell_type": "code",
      "execution_count": null,
      "metadata": {},
      "outputs": [],
      "source": [
        "predicciones = modelo.predict(datos_test)\n",
        "predicciones"
      ]
    },
    {
      "attachments": {},
      "cell_type": "markdown",
      "metadata": {},
      "source": [
        "Calculating the root mean squared error between the predicted and actual values"
      ]
    },
    {
      "cell_type": "code",
      "execution_count": null,
      "metadata": {},
      "outputs": [],
      "source": [
        "import numpy as np\n",
        "from sklearn.metrics import mean_squared_error\n",
        "error = np.sqrt(mean_squared_error(etiquetas_test, predicciones))\n",
        "print(\"Error porcentual : %f\" % (error*100))"
      ]
    },
    {
      "attachments": {},
      "cell_type": "markdown",
      "metadata": {},
      "source": [
        "Creating a new DataFrame for a new runner"
      ]
    },
    {
      "cell_type": "code",
      "execution_count": null,
      "metadata": {},
      "outputs": [],
      "source": [
        "nuevo_corredor = pd.DataFrame(np.array([[1,400,15,0,1.4]]), columns=['Category', 'km4week', 'sp4week', 'CrossTraining', 'Wall21'])\n",
        "nuevo_corredor"
      ]
    },
    {
      "attachments": {},
      "cell_type": "markdown",
      "metadata": {},
      "source": [
        "Making predictions for the new runner using the trained model"
      ]
    },
    {
      "cell_type": "code",
      "execution_count": null,
      "metadata": {},
      "outputs": [],
      "source": [
        "modelo.predict(nuevo_corredor)"
      ]
    }
  ],
  "metadata": {
    "colab": {
      "provenance": []
    },
    "kernelspec": {
      "display_name": "Python 3",
      "language": "python",
      "name": "python3"
    },
    "language_info": {
      "codemirror_mode": {
        "name": "ipython",
        "version": 3
      },
      "file_extension": ".py",
      "mimetype": "text/x-python",
      "name": "python",
      "nbconvert_exporter": "python",
      "pygments_lexer": "ipython3",
      "version": "3.11.2"
    },
    "vscode": {
      "interpreter": {
        "hash": "7561ff828661bc0b72ad6b3bf6ea8c753c12f1177e6c6dd99374ed490094c0b7"
      }
    }
  },
  "nbformat": 4,
  "nbformat_minor": 0
}
