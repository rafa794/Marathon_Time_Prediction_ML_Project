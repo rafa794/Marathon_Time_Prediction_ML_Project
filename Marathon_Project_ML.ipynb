{
  "cells": [
    {
      "cell_type": "markdown",
      "metadata": {
        "id": "FdmWZrXKS-o2"
      },
      "source": [
        "Marathon Project ML"
      ]
    },
    {
      "attachments": {},
      "cell_type": "markdown",
      "metadata": {},
      "source": [
        "PHASE 1: Receive Data and Data Visual\n",
        "Import the necessary libraries"
      ]
    },
    {
      "cell_type": "code",
      "execution_count": null,
      "metadata": {
        "colab": {
          "base_uri": "https://localhost:8080/",
          "height": 655
        },
        "id": "PNpCw9g3UCNG",
        "outputId": "53144d47-c376-4028-e488-8b71b5f802bb"
      },
      "outputs": [],
      "source": [
        "import io\n",
        "import pandas as pd\n",
        "ruta_archivo = './MarathonData.csv'\n",
        "datos_maraton = pd.read_csv(ruta_archivo)\n",
        "datos_maraton"
      ]
    },
    {
      "attachments": {},
      "cell_type": "markdown",
      "metadata": {},
      "source": [
        "Get the 'Name' column from the dataframe"
      ]
    },
    {
      "cell_type": "code",
      "execution_count": null,
      "metadata": {
        "colab": {
          "base_uri": "https://localhost:8080/"
        },
        "id": "t1o20TTsVCXA",
        "outputId": "eec7a5ba-cc60-4c20-b64c-07fd247003b9"
      },
      "outputs": [],
      "source": [
        "datos_maraton['Name']"
      ]
    },
    {
      "cell_type": "code",
      "execution_count": null,
      "metadata": {
        "colab": {
          "base_uri": "https://localhost:8080/"
        },
        "id": "QYGk8bE-VX4a",
        "outputId": "98849069-0a18-408f-edf5-1b56524d8ce2"
      },
      "outputs": [],
      "source": [
        "datos_maraton.info()"
      ]
    },
    {
      "attachments": {},
      "cell_type": "markdown",
      "metadata": {},
      "source": [
        "Convert the 'Wall21' column to numeric data type and replace non-numeric values with NaN\n"
      ]
    },
    {
      "cell_type": "code",
      "execution_count": null,
      "metadata": {
        "id": "j7rAsNZMVyR2"
      },
      "outputs": [],
      "source": [
        "datos_maraton['Wall21'] = pd.to_numeric(datos_maraton['Wall21'], errors ='coerce')"
      ]
    },
    {
      "attachments": {},
      "cell_type": "markdown",
      "metadata": {},
      "source": [
        "Display statistical information about the dataframe"
      ]
    },
    {
      "cell_type": "code",
      "execution_count": null,
      "metadata": {
        "colab": {
          "base_uri": "https://localhost:8080/",
          "height": 300
        },
        "id": "7G2R3lGkWRmO",
        "outputId": "7ed89132-b879-4715-a787-dcec49ab81b7"
      },
      "outputs": [],
      "source": [
        "datos_maraton.describe()"
      ]
    },
    {
      "attachments": {},
      "cell_type": "markdown",
      "metadata": {},
      "source": [
        "Display histograms of the columns in the dataframe"
      ]
    },
    {
      "cell_type": "code",
      "execution_count": null,
      "metadata": {
        "colab": {
          "base_uri": "https://localhost:8080/",
          "height": 350
        },
        "id": "WVR2cDObYTSq",
        "outputId": "1c97400f-5c6c-4ca3-ade6-77f5c702f214"
      },
      "outputs": [],
      "source": [
        "datos_maraton.hist()"
      ]
    },
    {
      "attachments": {},
      "cell_type": "markdown",
      "metadata": {},
      "source": [
        "Remove unnecessary columns from the dataframe"
      ]
    },
    {
      "cell_type": "code",
      "execution_count": null,
      "metadata": {
        "id": "VVamfmtgYxPq"
      },
      "outputs": [],
      "source": [
        "datos_maraton = datos_maraton.drop(columns=['Name'])\n",
        "datos_maraton = datos_maraton.drop(columns=['id'])\n",
        "datos_maraton = datos_maraton.drop(columns=['Marathon'])\n",
        "datos_maraton = datos_maraton.drop(columns=['CATEGORY'])\n",
        "datos_maraton"
      ]
    },
    {
      "attachments": {},
      "cell_type": "markdown",
      "metadata": {},
      "source": [
        "Count the number of missing values in each column"
      ]
    },
    {
      "cell_type": "code",
      "execution_count": null,
      "metadata": {
        "colab": {
          "base_uri": "https://localhost:8080/"
        },
        "id": "1-43wfdwZSvu",
        "outputId": "4fec8c5c-946e-42c5-b38b-bb0cf8b94f58"
      },
      "outputs": [],
      "source": [
        "datos_maraton.isna().sum()"
      ]
    },
    {
      "attachments": {},
      "cell_type": "markdown",
      "metadata": {},
      "source": [
        "Fill missing values in the 'CrossTraining' column with 0"
      ]
    },
    {
      "cell_type": "code",
      "execution_count": null,
      "metadata": {
        "colab": {
          "base_uri": "https://localhost:8080/",
          "height": 424
        },
        "id": "XWMiA-r3bEW5",
        "outputId": "bad168a7-3e76-4f27-cf59-88d705c6fd95"
      },
      "outputs": [],
      "source": [
        "datos_maraton['CrossTraining'] = datos_maraton['CrossTraining'].fillna(0)\n",
        "datos_maraton"
      ]
    },
    {
      "attachments": {},
      "cell_type": "markdown",
      "metadata": {},
      "source": [
        "Drop any rows with missing values"
      ]
    },
    {
      "cell_type": "code",
      "execution_count": null,
      "metadata": {
        "colab": {
          "base_uri": "https://localhost:8080/",
          "height": 424
        },
        "id": "1uc81A77b0KL",
        "outputId": "c11c49e0-ae83-4004-c886-ac28859d566f"
      },
      "outputs": [],
      "source": [
        "datos_maraton = datos_maraton.dropna(how='any')\n",
        "datos_maraton"
      ]
    },
    {
      "attachments": {},
      "cell_type": "markdown",
      "metadata": {},
      "source": [
        "Display unique values in the 'CrossTraining' column"
      ]
    },
    {
      "cell_type": "code",
      "execution_count": null,
      "metadata": {},
      "outputs": [],
      "source": [
        "datos_maraton['CrossTraining'].unique()"
      ]
    },
    {
      "attachments": {},
      "cell_type": "markdown",
      "metadata": {},
      "source": [
        "Replace string values in the 'CrossTraining' column with numerical values"
      ]
    },
    {
      "cell_type": "code",
      "execution_count": null,
      "metadata": {},
      "outputs": [],
      "source": [
        "valores_cross = {'CrossTraining': {'ciclista 1h' : 1, 'ciclista 3h' : 2, 'ciclista 4h' : 3, 'ciclista 5h': 4, 'ciclista 13h': 5, 'M50': 6}}\n",
        "datos_maraton.replace(valores_cross, inplace = True)\n",
        "datos_maraton"
      ]
    },
    {
      "attachments": {},
      "cell_type": "markdown",
      "metadata": {},
      "source": [
        "Replace string values in the 'Category' column with numerical values"
      ]
    },
    {
      "cell_type": "code",
      "execution_count": null,
      "metadata": {},
      "outputs": [],
      "source": [
        "valores_cross = {'Category': {'MAM' : 1, 'M45' : 2, 'M40' : 3, 'WAM': 4, 'M55': 5, 'M50' : 6}}\n",
        "datos_maraton.replace(valores_cross, inplace = True)\n",
        "datos_maraton"
      ]
    },
    {
      "attachments": {},
      "cell_type": "markdown",
      "metadata": {},
      "source": [
        "Plot a scatter plot of 'km4week' vs 'MarathonTime', then the same with 'km3week', 'sp4week' and 'Wall21'"
      ]
    },
    {
      "cell_type": "code",
      "execution_count": null,
      "metadata": {},
      "outputs": [],
      "source": [
        "import matplotlib.pyplot as plt\n",
        "plt.scatter(x = datos_maraton['km4week'], y = datos_maraton['MarathonTime'])\n",
        "plt.title('km4week VS Marathon Time')\n",
        "plt.xlabel('km4week')\n",
        "plt.ylabel('Marathon Time')\n",
        "plt.show()\n"
      ]
    },
    {
      "cell_type": "code",
      "execution_count": null,
      "metadata": {},
      "outputs": [],
      "source": [
        "import matplotlib.pyplot as plt\n",
        "plt.scatter(x = datos_maraton['sp4week'], y = datos_maraton['MarathonTime'])\n",
        "plt.title('sp4week VS Marathon Time')\n",
        "plt.xlabel('sp4week')\n",
        "plt.ylabel('Marathon Time')\n",
        "plt.show()"
      ]
    },
    {
      "attachments": {},
      "cell_type": "markdown",
      "metadata": {},
      "source": [
        "Remove rows where 'sp4week' is greater than 1000"
      ]
    },
    {
      "cell_type": "code",
      "execution_count": null,
      "metadata": {},
      "outputs": [],
      "source": [
        "datos_maraton = datos_maraton.query('sp4week<1000')"
      ]
    },
    {
      "cell_type": "code",
      "execution_count": null,
      "metadata": {},
      "outputs": [],
      "source": [
        "import matplotlib.pyplot as plt\n",
        "plt.scatter(x = datos_maraton['sp4week'], y = datos_maraton['MarathonTime'])\n",
        "plt.title('sp4week VS Marathon Time')\n",
        "plt.xlabel('sp4week')\n",
        "plt.ylabel('Marathon Time')\n",
        "plt.show()"
      ]
    },
    {
      "cell_type": "code",
      "execution_count": null,
      "metadata": {},
      "outputs": [],
      "source": [
        "import matplotlib.pyplot as plt\n",
        "plt.scatter(x = datos_maraton['Wall21'], y = datos_maraton['MarathonTime'])\n",
        "plt.title('Wall21 VS Marathon Time')\n",
        "plt.xlabel('Wall21')\n",
        "plt.ylabel('Marathon Time')\n",
        "plt.show()"
      ]
    },
    {
      "cell_type": "code",
      "execution_count": null,
      "metadata": {},
      "outputs": [],
      "source": [
        "datos_maraton"
      ]
    },
    {
      "attachments": {},
      "cell_type": "markdown",
      "metadata": {},
      "source": [
        "PHASE 2: Model Training"
      ]
    },
    {
      "attachments": {},
      "cell_type": "markdown",
      "metadata": {},
      "source": [
        "Selecting 80% of the data for training and remaining 20% for testing"
      ]
    },
    {
      "cell_type": "code",
      "execution_count": null,
      "metadata": {},
      "outputs": [],
      "source": [
        "datos_entrenamiento = datos_maraton.sample(frac=0.8,random_state=0)\n",
        "datos_test = datos_maraton.drop(datos_entrenamiento.index)"
      ]
    },
    {
      "cell_type": "code",
      "execution_count": null,
      "metadata": {},
      "outputs": [],
      "source": [
        "datos_entrenamiento"
      ]
    },
    {
      "attachments": {},
      "cell_type": "markdown",
      "metadata": {},
      "source": [
        "Removing the target variable 'MarathonTime' from the training and testing datasets"
      ]
    },
    {
      "cell_type": "code",
      "execution_count": null,
      "metadata": {},
      "outputs": [],
      "source": [
        "etiquetas_entrenamiento = datos_entrenamiento.pop('MarathonTime')\n",
        "etiquetas_test = datos_test.pop('MarathonTime') "
      ]
    },
    {
      "cell_type": "code",
      "execution_count": null,
      "metadata": {},
      "outputs": [],
      "source": [
        "etiquetas_entrenamiento"
      ]
    },
    {
      "attachments": {},
      "cell_type": "markdown",
      "metadata": {},
      "source": [
        "Creating a Linear Regression model and fitting it to the training data"
      ]
    },
    {
      "cell_type": "code",
      "execution_count": null,
      "metadata": {},
      "outputs": [],
      "source": [
        "from sklearn.linear_model import LinearRegression\n",
        "modelo = LinearRegression()\n",
        "modelo.fit(datos_entrenamiento, etiquetas_entrenamiento)"
      ]
    },
    {
      "attachments": {},
      "cell_type": "markdown",
      "metadata": {},
      "source": [
        "Making predictions on the testing data using the trained model"
      ]
    },
    {
      "cell_type": "code",
      "execution_count": null,
      "metadata": {},
      "outputs": [],
      "source": [
        "predicciones = modelo.predict(datos_test)\n",
        "predicciones"
      ]
    },
    {
      "attachments": {},
      "cell_type": "markdown",
      "metadata": {},
      "source": [
        "Calculating the root mean squared error between the predicted and actual values"
      ]
    },
    {
      "cell_type": "code",
      "execution_count": null,
      "metadata": {},
      "outputs": [],
      "source": [
        "import numpy as np\n",
        "from sklearn.metrics import mean_squared_error\n",
        "error = np.sqrt(mean_squared_error(etiquetas_test, predicciones))\n",
        "print(\"Error porcentual : %f\" % (error*100))"
      ]
    },
    {
      "attachments": {},
      "cell_type": "markdown",
      "metadata": {},
      "source": [
        "Creating a new DataFrame for a new runner"
      ]
    },
    {
      "cell_type": "code",
      "execution_count": null,
      "metadata": {},
      "outputs": [],
      "source": [
        "nuevo_corredor = pd.DataFrame(np.array([[1,400,15,0,1.4]]), columns=['Category', 'km4week', 'sp4week', 'CrossTraining', 'Wall21'])\n",
        "nuevo_corredor"
      ]
    },
    {
      "attachments": {},
      "cell_type": "markdown",
      "metadata": {},
      "source": [
        "Making predictions for the new runner using the trained model"
      ]
    },
    {
      "cell_type": "code",
      "execution_count": null,
      "metadata": {},
      "outputs": [],
      "source": [
        "modelo.predict(nuevo_corredor)"
      ]
    }
  ],
  "metadata": {
    "colab": {
      "provenance": []
    },
    "kernelspec": {
      "display_name": "Python 3",
      "language": "python",
      "name": "python3"
    },
    "language_info": {
      "codemirror_mode": {
        "name": "ipython",
        "version": 3
      },
      "file_extension": ".py",
      "mimetype": "text/x-python",
      "name": "python",
      "nbconvert_exporter": "python",
      "pygments_lexer": "ipython3",
      "version": "3.11.2"
    },
    "vscode": {
      "interpreter": {
        "hash": "7561ff828661bc0b72ad6b3bf6ea8c753c12f1177e6c6dd99374ed490094c0b7"
      }
    }
  },
  "nbformat": 4,
  "nbformat_minor": 0
}
